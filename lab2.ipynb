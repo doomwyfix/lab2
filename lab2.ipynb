{
 "cells": [
  {
   "cell_type": "markdown",
   "metadata": {},
   "source": [
    "Іморт потрібних бібліотек"
   ]
  },
  {
   "cell_type": "code",
   "execution_count": 12,
   "metadata": {},
   "outputs": [],
   "source": [
    "import pandas as pd \n",
    "import urllib.request\n",
    "import os\n",
    "from datetime import datetime, date\n",
    "import csv"
   ]
  },
  {
   "cell_type": "markdown",
   "metadata": {},
   "source": [
    "Створимо директорію та ініціалізуємо змінні для подальшої роботи"
   ]
  },
  {
   "cell_type": "code",
   "execution_count": 13,
   "metadata": {},
   "outputs": [],
   "source": [
    "folder = 'lab_2'\n",
    "web_link = ('https://www.star.nesdis.noaa.gov/smcd/emb/vci/VH/get_TS_admin.php?country=UKR&provinceID=('')&year1=1981&year2=2024&type=Mean')\n",
    "indicies = {1: 22, 2: 24, 3: 23, 4: 25, 5: 3, 6: 4, 7: 8, 8: 19, 9: 20, 10: 21, 11: 9, 13: 10, 14: 11, 15: 12, 16: 13, 17: 14, 18: 15, 19: 16, 21: 17, 22: 18, 23: 6, 24: 1, 25: 2, 26: 7, 27:5}\n",
    "if not os.path.exists(folder):\n",
    "    os.makedirs(folder)"
   ]
  },
  {
   "cell_type": "markdown",
   "metadata": {},
   "source": [
    "Тепер заванатжуємо дані та перевіряємо їх"
   ]
  },
  {
   "cell_type": "code",
   "execution_count": 14,
   "metadata": {},
   "outputs": [
    {
     "name": "stdout",
     "output_type": "stream",
     "text": [
      "file with index 22 already exists\n",
      "file with index 24 already exists\n",
      "file with index 23 already exists\n",
      "file with index 25 already exists\n",
      "file with index 3 already exists\n",
      "file with index 4 already exists\n",
      "file with index 8 already exists\n",
      "file with index 19 already exists\n",
      "file with index 20 already exists\n",
      "file with index 21 already exists\n",
      "file with index 9 already exists\n",
      "file with index 10 already exists\n",
      "file with index 11 already exists\n",
      "file with index 12 already exists\n",
      "file with index 13 already exists\n",
      "file with index 14 already exists\n",
      "file with index 15 already exists\n",
      "file with index 16 already exists\n",
      "file with index 17 already exists\n",
      "file with index 18 already exists\n",
      "file with index 6 already exists\n",
      "file with index 1 already exists\n",
      "file with index 2 already exists\n",
      "file with index 7 already exists\n",
      "file with index 5 already exists\n",
      "SUCCESS\n"
     ]
    }
   ],
   "source": [
    "for region_id, ind in indicies.items():\n",
    "    file_exists = False\n",
    "    filename_start = 'NOAA_' + str(ind) + '_'\n",
    "    for filename in os.listdir(folder):\n",
    "        if filename.startswith(filename_start):\n",
    "            print('file with index ' + str(ind) + ' already exists')\n",
    "            file_exists = True\n",
    "    if not file_exists:\n",
    "        url_link = web_link.format(region_id)\n",
    "        web_page = urllib.request.urlopen(url_link)\n",
    "        page_text = web_page.read()\n",
    "        current_time = datetime.now()\n",
    "        date_time = current_time.strftime(\"%d-%m-%Y_%H-%M-%S\")\n",
    "        file_path = os.path.join(folder, 'NOAA_' + str(ind) + '_' + date_time + '.csv')\n",
    "        with open(file_path, 'wb') as output_file:\n",
    "            output_file.write(page_text)\n",
    "        print('file ' + file_path + ' was created')\n",
    "print ('SUCCESS')"
   ]
  },
  {
   "cell_type": "code",
   "execution_count": 15,
   "metadata": {},
   "outputs": [
    {
     "name": "stdout",
     "output_type": "stream",
     "text": [
      "File all.csv already exists and has been removed. \n",
      "Successfully read file : NOAA_10_14-04-2024_14-31-51.csv\n",
      "Successfully read file : NOAA_11_14-04-2024_14-32-34.csv\n",
      "Successfully read file : NOAA_12_14-04-2024_14-33-17.csv\n",
      "Successfully read file : NOAA_13_14-04-2024_14-33-53.csv\n",
      "Successfully read file : NOAA_14_14-04-2024_14-33-54.csv\n",
      "Successfully read file : NOAA_15_14-04-2024_14-33-55.csv\n",
      "Successfully read file : NOAA_16_14-04-2024_14-33-56.csv\n",
      "Successfully read file : NOAA_17_14-04-2024_14-33-57.csv\n",
      "Successfully read file : NOAA_18_14-04-2024_14-33-58.csv\n",
      "Successfully read file : NOAA_19_14-04-2024_14-28-59.csv\n",
      "Successfully read file : NOAA_1_14-04-2024_14-34-01.csv\n",
      "Successfully read file : NOAA_20_14-04-2024_14-29-42.csv\n",
      "Successfully read file : NOAA_21_14-04-2024_14-30-25.csv\n",
      "Successfully read file : NOAA_22_14-04-2024_14-23-58.csv\n",
      "Successfully read file : NOAA_23_14-04-2024_14-25-24.csv\n",
      "Successfully read file : NOAA_24_14-04-2024_14-24-41.csv\n",
      "Successfully read file : NOAA_25_14-04-2024_14-26-07.csv\n",
      "Successfully read file : NOAA_2_14-04-2024_14-34-02.csv\n",
      "Successfully read file : NOAA_3_14-04-2024_14-26-50.csv\n",
      "Successfully read file : NOAA_4_14-04-2024_14-27-33.csv\n",
      "Successfully read file : NOAA_5_14-04-2024_14-34-04.csv\n",
      "Successfully read file : NOAA_6_14-04-2024_14-33-59.csv\n",
      "Successfully read file : NOAA_7_14-04-2024_14-34-03.csv\n"
     ]
    },
    {
     "name": "stderr",
     "output_type": "stream",
     "text": [
      "C:\\Users\\asont\\AppData\\Local\\Temp\\ipykernel_18104\\3617893301.py:27: FutureWarning: The behavior of DataFrame concatenation with empty or all-NA entries is deprecated. In a future version, this will no longer exclude empty or all-NA columns when determining the result dtypes. To retain the old behavior, exclude the relevant entries before the concat operation.\n",
      "  dataframe = pd.concat([dataframe, df], ignore_index=True)\n"
     ]
    },
    {
     "name": "stdout",
     "output_type": "stream",
     "text": [
      "Successfully read file : NOAA_8_14-04-2024_14-28-16.csv\n",
      "Successfully read file : NOAA_9_14-04-2024_14-31-08.csv\n",
      "DataFrame saved to: all.csv\n",
      "Year    0\n",
      "Week    0\n",
      "SMN     0\n",
      "SMT     0\n",
      "VCI     0\n",
      "TCI     0\n",
      "VHI     0\n",
      "area    0\n",
      "dtype: int64\n",
      "0\n",
      "       Year  Week    SMN     SMT    VCI    TCI    VHI            area\n",
      "0      1982   1.0  0.058  258.97  43.57  53.24  48.41  Кіровоградська\n",
      "1      1982   2.0  0.058  260.55  45.16  46.73  45.95  Кіровоградська\n",
      "2      1982   3.0  0.058  261.83  44.88  42.32  43.60  Кіровоградська\n",
      "3      1982   4.0  0.057  263.29  42.53  38.54  40.53  Кіровоградська\n",
      "4      1982   5.0  0.055  264.23  37.85  38.85  38.35  Кіровоградська\n",
      "...     ...   ...    ...     ...    ...    ...    ...             ...\n",
      "53695  2024  10.0  0.159  280.97  72.97  10.88  41.91        Київська\n",
      "53696  2024  11.0  0.173  282.98  71.99  10.69  41.33        Київська\n",
      "53697  2024  12.0  0.188  284.99  71.42  11.99  41.69        Київська\n",
      "53698  2024  13.0  0.200  286.81  69.59  13.34  41.46        Київська\n",
      "53699  2024  14.0  0.211  287.95  65.49  17.21  41.35        Київська\n",
      "\n",
      "[53700 rows x 8 columns]\n"
     ]
    }
   ],
   "source": [
    "region_name = {\n",
    "    1: \"Вінницька\", 2: \"Волинська\", 3: \"Дніпропетровська\", 4: \"Донецька\", 5: \"Житомирська\",\n",
    "    6: \"Закарпатська\", 7: \"Запорізька\", 8: \"Івано-Франківська\", 9: \"Київська\",\n",
    "    10: \"Кіровоградська\", 11: \"Луганська\", 12: \"Львівська\", 13: \"Миколаївська\", 14: \"Одеська\",\n",
    "    15: \"Полтавська\", 16: \"Рівенська\", 17: \"Сумська\", 18: \"Тернопільська\", 19: \"Харківська\",\n",
    "    20: \"Херсонська\", 21: \"Хмельницька\", 22: \"Черкаська\", 23: \"Чернівецька\", 24: \"Чернігівська\",\n",
    "    25: \"Республіка Крим\" \n",
    "}\n",
    "\n",
    "def read_file_to_dataframe(directory, output_path):\n",
    "    headers = ['Year', 'Week', 'SMN', 'SMT', 'VCI', 'TCI', 'VHI', 'area']\n",
    "    dataframe = pd.DataFrame(columns=headers)\n",
    "    if os.path.exists(output_path):\n",
    "        os.remove(output_path)\n",
    "        print(f'File {output_path} already exists and has been removed. ')\n",
    "    for filename in os.listdir(directory):\n",
    "         if filename.endswith('.csv'):\n",
    "            file_path = os.path.join(directory, filename)\n",
    "            try:\n",
    "                df = pd.read_csv(file_path, skiprows=2, names=headers)\n",
    "                df['Year'] = df['Year'].str.replace('<tt><pre>', '').str.replace('</pre></tt>', '')\n",
    "                region = int(filename.split('_')[1])\n",
    "                df['area'] = region\n",
    "                df['area'] = df['area'].replace({index: region for index, region in region_name.items()})\n",
    "                df = df.drop(df.loc[df['VHI'] == -1].index)\n",
    "                df = df.dropna()\n",
    "                dataframe = pd.concat([dataframe, df], ignore_index=True)\n",
    "                print(f'Successfully read file : {filename}')\n",
    "            except pd.errors.ParserError:\n",
    "                print(f'Error reading {filename}: ParsesError')\n",
    "    dataframe.to_csv(output_path, index=False)\n",
    "    print(f'DataFrame saved to: {output_path}')\n",
    "    return dataframe\n",
    "\n",
    "df = read_file_to_dataframe('lab_2', 'all.csv')\n",
    "\n",
    "miss_values = df.isnull().sum()\n",
    "print(miss_values)\n",
    "\n",
    "negatives = (df == -1).sum().sum()\n",
    "print(negatives)\n",
    "\n",
    "print(df)"
   ]
  },
  {
   "cell_type": "markdown",
   "metadata": {},
   "source": [
    "1.1.Ряд VHI для області за вказаний рік"
   ]
  },
  {
   "cell_type": "code",
   "execution_count": 16,
   "metadata": {},
   "outputs": [
    {
     "name": "stdout",
     "output_type": "stream",
     "text": [
      "VHI data for year 2005 and area Київська\n",
      "VHI values: 54.59, 55.24, 55.92, 56.63, 56.79, 55.59, 54.05, 52.84, 52.94, 52.82, 52.22, 51.23, 51.0, 49.17, 46.83, 47.06, 53.41, 55.83, 53.77, 57.85, 59.25, 61.29, 62.44, 64.27, 64.82, 63.6, 62.4, 63.43, 60.96, 61.01, 60.52, 58.26, 55.32, 51.97, 47.95, 44.74, 42.6, 40.54, 40.78, 40.65, 41.61, 42.92, 42.58, 42.57, 41.25, 40.84, 42.46, 44.09, 43.95, 44.28, 45.06\n"
     ]
    }
   ],
   "source": [
    "def VHI_year_area(selected_year, selected_area):\n",
    "    vhi_data = df[(df['Year'] == selected_year) & (df['area'] == selected_area)]\n",
    "    if not vhi_data.empty:\n",
    "        print(f\"VHI data for year {selected_year} and area {selected_area}\")\n",
    "        vhi_values = ', '.join(map(str, vhi_data['VHI']))\n",
    "        print(f\"VHI values: {vhi_values}\")\n",
    "    else:\n",
    "        print(\"No data available\")\n",
    "\n",
    "selected_year = input(\"Enter year: \")\n",
    "selected_area = input(\"Enter area: \")\n",
    "VHI_year_area(selected_year, selected_area)\n"
   ]
  },
  {
   "cell_type": "markdown",
   "metadata": {},
   "source": [
    "1.2.min та max"
   ]
  },
  {
   "cell_type": "code",
   "execution_count": 17,
   "metadata": {},
   "outputs": [
    {
     "name": "stdout",
     "output_type": "stream",
     "text": [
      "Min VHI value Київська in 2004 year: 50.72\n",
      "Rows with min VHI: \n",
      "Week:  45.0, VHI: 50.72\n",
      "Max VHI value Київська in 2004 year: 73.86\n",
      "Rows with max VHI: \n",
      "Week:  34.0, VHI: 73.86\n"
     ]
    }
   ],
   "source": [
    "def VHI_min_max(selected_year, selected_area):\n",
    "    found = df[(df[\"Year\"] == selected_year) & (df[\"area\"] == str(selected_area))]\n",
    "    minV = df [(df[\"Year\"].astype(str) == str(selected_year)) & (df[\"area\"] == selected_area)]['VHI'].min()\n",
    "    maxV = df [(df[\"Year\"].astype(str) == str(selected_year)) & (df[\"area\"] == selected_area)]['VHI'].max()\n",
    "\n",
    "    print(f\"Min VHI value {selected_area} in {selected_year} year: {minV}\")\n",
    "    min_row = found[found ['VHI'] == minV]\n",
    "    print(\"Rows with min VHI: \")\n",
    "    for index, row in min_row.iterrows():\n",
    "        print(f\"Week:  {row['Week']}, VHI: {row['VHI']}\")\n",
    "\n",
    "    print(f\"Max VHI value {selected_area} in {selected_year} year: {maxV}\")\n",
    "    max_row = found[found ['VHI'] == maxV]\n",
    "    print(\"Rows with max VHI: \")\n",
    "    for index, row in max_row.iterrows():\n",
    "        print(f\"Week:  {row['Week']}, VHI: {row['VHI']}\")\n",
    "\n",
    "selected_year = input('Enter year: ')\n",
    "selected_area = input('Enter area: ')\n",
    "VHI_min_max(selected_year, selected_area)\n"
   ]
  },
  {
   "cell_type": "markdown",
   "metadata": {},
   "source": [
    "2.Ряд VHI за вказаний діапазон років для вказаних областей"
   ]
  },
  {
   "cell_type": "code",
   "execution_count": 18,
   "metadata": {},
   "outputs": [
    {
     "name": "stdout",
     "output_type": "stream",
     "text": [
      "Year: 2005\n",
      "Area: Odessa\n",
      "No data avialable for this area and year\n",
      "Area: Kiev\n",
      "No data avialable for this area and year\n",
      "\n",
      "Year: 2006\n",
      "Area: Odessa\n",
      "No data avialable for this area and year\n",
      "Area: Kiev\n",
      "No data avialable for this area and year\n",
      "\n",
      "Year: 2007\n",
      "Area: Odessa\n",
      "No data avialable for this area and year\n",
      "Area: Kiev\n",
      "No data avialable for this area and year\n",
      "\n"
     ]
    }
   ],
   "source": [
    "def VHI_in_range(selected_areas, start_year, end_year):\n",
    "    for year in range(start_year, end_year + 1):\n",
    "        print(f\"Year: {year}\")\n",
    "        filtered_data_year = df[df['Year'] == str(year)]\n",
    "        for area in selected_areas:\n",
    "            filtered_data_area = filtered_data_year[filtered_data_year['area'] == area]\n",
    "            print(f\"Area: {area}\")\n",
    "            if not filtered_data_area.empty:\n",
    "                vhi_values = ', '. join(map(str, filtered_data_area['VHI']))\n",
    "                print(f\"VHI values: {vhi_values}\")\n",
    "            else:\n",
    "                print(\"No data avialable for this area and year\")\n",
    "        print()\n",
    "\n",
    "selected_areas = ['Odessa', 'Kiev']\n",
    "start_year = 2005\n",
    "end_year = 2007\n",
    "VHI_in_range(selected_areas, start_year, end_year)\n"
   ]
  },
  {
   "cell_type": "markdown",
   "metadata": {},
   "source": [
    " визначити роки, коли екстремальні посухи вплинули на більшу кількість областей, ніж вказана межа в 20%"
   ]
  },
  {
   "cell_type": "code",
   "execution_count": 19,
   "metadata": {},
   "outputs": [
    {
     "name": "stdout",
     "output_type": "stream",
     "text": [
      "Years with extreme droughts affecting more than 5.0% of regions:\n"
     ]
    }
   ],
   "source": [
    "def extreme_drought(percent_threshold=0.2):\n",
    "    extreme_drought_years = []\n",
    "    extreme_drought_areas = {}\n",
    "    for year in df['Year'].unique():\n",
    "        drought_areas = df[(df['Year'] == year) & (df['VHI'] < 15)]['area'].unique()\n",
    "        drought_areas_count = len(drought_areas)\n",
    "        if (drought_areas_count / 25) >= percent_threshold:\n",
    "            extreme_drought_years.append(year)\n",
    "            extreme_drought_areas[year] = drought_areas.tolist()\n",
    "    return extreme_drought_years, extreme_drought_areas\n",
    "\n",
    "percent_threshold = 0.05\n",
    "extreme_drought_years, extreme_drought_areas = extreme_drought(percent_threshold)\n",
    "print(f\"Years with extreme droughts affecting more than {percent_threshold * 100}% of regions:\")\n",
    "for year in extreme_drought_years:\n",
    "    min_vhi_value = df[(df['Year'].astype(str) == str(year))]['VHI'].min()\n",
    "    print(f\"Year: {year}, Affected areas: {extreme_drought_areas[year]}, Lowest VHI value: {min_vhi_value}\")\n",
    "    print()"
   ]
  },
  {
   "cell_type": "markdown",
   "metadata": {},
   "source": [
    "для помірних посух"
   ]
  },
  {
   "cell_type": "code",
   "execution_count": 20,
   "metadata": {},
   "outputs": [
    {
     "name": "stdout",
     "output_type": "stream",
     "text": [
      "Years with extreme droughts affecting more than 95% of regions:\n",
      "Year: 1982, Affected areas: ['Кіровоградська', 'Луганська', 'Львівська', 'Миколаївська', 'Одеська', 'Полтавська', 'Рівенська', 'Сумська', 'Тернопільська', 'Харківська', 'Вінницька', 'Херсонська', 'Хмельницька', 'Черкаська', 'Чернівецька', 'Чернігівська', 'Республіка Крим', 'Волинська', 'Дніпропетровська', 'Донецька', 'Житомирська', 'Закарпатська', 'Запорізька', 'Івано-Франківська', 'Київська']\n",
      "Year: 1983, Affected areas: ['Кіровоградська', 'Луганська', 'Львівська', 'Миколаївська', 'Одеська', 'Полтавська', 'Рівенська', 'Сумська', 'Тернопільська', 'Харківська', 'Вінницька', 'Херсонська', 'Хмельницька', 'Черкаська', 'Чернівецька', 'Чернігівська', 'Республіка Крим', 'Волинська', 'Дніпропетровська', 'Донецька', 'Житомирська', 'Закарпатська', 'Запорізька', 'Івано-Франківська', 'Київська']\n",
      "Year: 1984, Affected areas: ['Кіровоградська', 'Луганська', 'Львівська', 'Миколаївська', 'Одеська', 'Полтавська', 'Рівенська', 'Сумська', 'Тернопільська', 'Харківська', 'Вінницька', 'Херсонська', 'Хмельницька', 'Черкаська', 'Чернівецька', 'Чернігівська', 'Республіка Крим', 'Волинська', 'Дніпропетровська', 'Донецька', 'Житомирська', 'Закарпатська', 'Запорізька', 'Івано-Франківська', 'Київська']\n",
      "Year: 1985, Affected areas: ['Кіровоградська', 'Луганська', 'Львівська', 'Миколаївська', 'Одеська', 'Полтавська', 'Рівенська', 'Сумська', 'Тернопільська', 'Харківська', 'Вінницька', 'Херсонська', 'Хмельницька', 'Черкаська', 'Чернівецька', 'Чернігівська', 'Республіка Крим', 'Волинська', 'Дніпропетровська', 'Донецька', 'Житомирська', 'Закарпатська', 'Запорізька', 'Івано-Франківська', 'Київська']\n",
      "Year: 1986, Affected areas: ['Кіровоградська', 'Луганська', 'Львівська', 'Миколаївська', 'Одеська', 'Полтавська', 'Рівенська', 'Сумська', 'Тернопільська', 'Харківська', 'Вінницька', 'Херсонська', 'Хмельницька', 'Черкаська', 'Чернівецька', 'Чернігівська', 'Республіка Крим', 'Волинська', 'Дніпропетровська', 'Донецька', 'Житомирська', 'Закарпатська', 'Запорізька', 'Івано-Франківська', 'Київська']\n",
      "Year: 1987, Affected areas: ['Кіровоградська', 'Луганська', 'Львівська', 'Миколаївська', 'Одеська', 'Полтавська', 'Рівенська', 'Сумська', 'Тернопільська', 'Харківська', 'Вінницька', 'Херсонська', 'Хмельницька', 'Черкаська', 'Чернівецька', 'Чернігівська', 'Республіка Крим', 'Волинська', 'Дніпропетровська', 'Донецька', 'Житомирська', 'Закарпатська', 'Запорізька', 'Івано-Франківська', 'Київська']\n",
      "Year: 1988, Affected areas: ['Кіровоградська', 'Луганська', 'Львівська', 'Миколаївська', 'Одеська', 'Полтавська', 'Рівенська', 'Сумська', 'Тернопільська', 'Харківська', 'Вінницька', 'Херсонська', 'Хмельницька', 'Черкаська', 'Чернівецька', 'Чернігівська', 'Республіка Крим', 'Волинська', 'Дніпропетровська', 'Донецька', 'Житомирська', 'Закарпатська', 'Запорізька', 'Івано-Франківська', 'Київська']\n",
      "Year: 1989, Affected areas: ['Кіровоградська', 'Луганська', 'Львівська', 'Миколаївська', 'Одеська', 'Полтавська', 'Рівенська', 'Сумська', 'Тернопільська', 'Харківська', 'Вінницька', 'Херсонська', 'Хмельницька', 'Черкаська', 'Чернівецька', 'Чернігівська', 'Республіка Крим', 'Волинська', 'Дніпропетровська', 'Донецька', 'Житомирська', 'Закарпатська', 'Запорізька', 'Івано-Франківська', 'Київська']\n",
      "Year: 1990, Affected areas: ['Кіровоградська', 'Луганська', 'Львівська', 'Миколаївська', 'Одеська', 'Полтавська', 'Рівенська', 'Сумська', 'Тернопільська', 'Харківська', 'Вінницька', 'Херсонська', 'Хмельницька', 'Черкаська', 'Чернівецька', 'Чернігівська', 'Республіка Крим', 'Волинська', 'Дніпропетровська', 'Донецька', 'Житомирська', 'Закарпатська', 'Запорізька', 'Івано-Франківська', 'Київська']\n",
      "Year: 1991, Affected areas: ['Кіровоградська', 'Луганська', 'Львівська', 'Миколаївська', 'Одеська', 'Полтавська', 'Рівенська', 'Сумська', 'Тернопільська', 'Харківська', 'Вінницька', 'Херсонська', 'Хмельницька', 'Черкаська', 'Чернівецька', 'Чернігівська', 'Республіка Крим', 'Волинська', 'Дніпропетровська', 'Донецька', 'Житомирська', 'Закарпатська', 'Запорізька', 'Івано-Франківська', 'Київська']\n",
      "Year: 1992, Affected areas: ['Кіровоградська', 'Луганська', 'Львівська', 'Миколаївська', 'Одеська', 'Полтавська', 'Рівенська', 'Сумська', 'Тернопільська', 'Харківська', 'Вінницька', 'Херсонська', 'Хмельницька', 'Черкаська', 'Чернівецька', 'Чернігівська', 'Республіка Крим', 'Волинська', 'Дніпропетровська', 'Донецька', 'Житомирська', 'Закарпатська', 'Запорізька', 'Івано-Франківська', 'Київська']\n",
      "Year: 1993, Affected areas: ['Кіровоградська', 'Луганська', 'Львівська', 'Миколаївська', 'Одеська', 'Полтавська', 'Рівенська', 'Сумська', 'Тернопільська', 'Харківська', 'Вінницька', 'Херсонська', 'Хмельницька', 'Черкаська', 'Чернівецька', 'Чернігівська', 'Республіка Крим', 'Волинська', 'Дніпропетровська', 'Донецька', 'Житомирська', 'Закарпатська', 'Запорізька', 'Івано-Франківська', 'Київська']\n",
      "Year: 1994, Affected areas: ['Кіровоградська', 'Луганська', 'Львівська', 'Миколаївська', 'Одеська', 'Полтавська', 'Рівенська', 'Сумська', 'Тернопільська', 'Харківська', 'Вінницька', 'Херсонська', 'Хмельницька', 'Черкаська', 'Чернівецька', 'Чернігівська', 'Республіка Крим', 'Волинська', 'Дніпропетровська', 'Донецька', 'Житомирська', 'Закарпатська', 'Запорізька', 'Івано-Франківська', 'Київська']\n",
      "Year: 1995, Affected areas: ['Кіровоградська', 'Луганська', 'Львівська', 'Миколаївська', 'Одеська', 'Полтавська', 'Рівенська', 'Сумська', 'Тернопільська', 'Харківська', 'Вінницька', 'Херсонська', 'Хмельницька', 'Черкаська', 'Чернівецька', 'Чернігівська', 'Республіка Крим', 'Волинська', 'Дніпропетровська', 'Донецька', 'Житомирська', 'Закарпатська', 'Запорізька', 'Івано-Франківська', 'Київська']\n",
      "Year: 1996, Affected areas: ['Кіровоградська', 'Луганська', 'Львівська', 'Миколаївська', 'Одеська', 'Полтавська', 'Рівенська', 'Сумська', 'Тернопільська', 'Харківська', 'Вінницька', 'Херсонська', 'Хмельницька', 'Черкаська', 'Чернівецька', 'Чернігівська', 'Республіка Крим', 'Волинська', 'Дніпропетровська', 'Донецька', 'Житомирська', 'Закарпатська', 'Запорізька', 'Івано-Франківська', 'Київська']\n",
      "Year: 1999, Affected areas: ['Кіровоградська', 'Луганська', 'Львівська', 'Миколаївська', 'Одеська', 'Полтавська', 'Рівенська', 'Сумська', 'Тернопільська', 'Харківська', 'Вінницька', 'Херсонська', 'Хмельницька', 'Черкаська', 'Чернівецька', 'Чернігівська', 'Республіка Крим', 'Волинська', 'Дніпропетровська', 'Донецька', 'Житомирська', 'Закарпатська', 'Запорізька', 'Івано-Франківська', 'Київська']\n",
      "Year: 2000, Affected areas: ['Кіровоградська', 'Луганська', 'Львівська', 'Миколаївська', 'Одеська', 'Полтавська', 'Рівенська', 'Сумська', 'Тернопільська', 'Харківська', 'Вінницька', 'Херсонська', 'Хмельницька', 'Черкаська', 'Чернівецька', 'Чернігівська', 'Республіка Крим', 'Волинська', 'Дніпропетровська', 'Донецька', 'Житомирська', 'Закарпатська', 'Запорізька', 'Івано-Франківська', 'Київська']\n",
      "Year: 2003, Affected areas: ['Кіровоградська', 'Луганська', 'Львівська', 'Миколаївська', 'Одеська', 'Полтавська', 'Рівенська', 'Сумська', 'Тернопільська', 'Харківська', 'Вінницька', 'Херсонська', 'Хмельницька', 'Черкаська', 'Чернівецька', 'Чернігівська', 'Республіка Крим', 'Волинська', 'Дніпропетровська', 'Донецька', 'Житомирська', 'Закарпатська', 'Запорізька', 'Івано-Франківська', 'Київська']\n",
      "Year: 2007, Affected areas: ['Кіровоградська', 'Луганська', 'Львівська', 'Миколаївська', 'Одеська', 'Полтавська', 'Рівенська', 'Сумська', 'Тернопільська', 'Харківська', 'Вінницька', 'Херсонська', 'Хмельницька', 'Черкаська', 'Чернівецька', 'Чернігівська', 'Республіка Крим', 'Волинська', 'Дніпропетровська', 'Донецька', 'Житомирська', 'Закарпатська', 'Запорізька', 'Івано-Франківська', 'Київська']\n",
      "Year: 2008, Affected areas: ['Кіровоградська', 'Луганська', 'Львівська', 'Миколаївська', 'Одеська', 'Полтавська', 'Рівенська', 'Сумська', 'Тернопільська', 'Харківська', 'Вінницька', 'Херсонська', 'Хмельницька', 'Черкаська', 'Чернівецька', 'Чернігівська', 'Республіка Крим', 'Волинська', 'Дніпропетровська', 'Донецька', 'Житомирська', 'Закарпатська', 'Запорізька', 'Івано-Франківська', 'Київська']\n",
      "Year: 2009, Affected areas: ['Кіровоградська', 'Луганська', 'Львівська', 'Миколаївська', 'Одеська', 'Полтавська', 'Рівенська', 'Сумська', 'Тернопільська', 'Харківська', 'Вінницька', 'Херсонська', 'Хмельницька', 'Черкаська', 'Чернівецька', 'Чернігівська', 'Республіка Крим', 'Волинська', 'Дніпропетровська', 'Донецька', 'Житомирська', 'Закарпатська', 'Запорізька', 'Івано-Франківська', 'Київська']\n",
      "Year: 2015, Affected areas: ['Кіровоградська', 'Луганська', 'Львівська', 'Миколаївська', 'Одеська', 'Полтавська', 'Рівенська', 'Сумська', 'Тернопільська', 'Харківська', 'Вінницька', 'Херсонська', 'Хмельницька', 'Черкаська', 'Чернівецька', 'Чернігівська', 'Республіка Крим', 'Волинська', 'Дніпропетровська', 'Донецька', 'Житомирська', 'Закарпатська', 'Запорізька', 'Івано-Франківська', 'Київська']\n",
      "Year: 2019, Affected areas: ['Кіровоградська', 'Луганська', 'Львівська', 'Миколаївська', 'Одеська', 'Полтавська', 'Рівенська', 'Сумська', 'Тернопільська', 'Харківська', 'Вінницька', 'Херсонська', 'Хмельницька', 'Черкаська', 'Чернівецька', 'Чернігівська', 'Республіка Крим', 'Волинська', 'Дніпропетровська', 'Донецька', 'Житомирська', 'Закарпатська', 'Запорізька', 'Івано-Франківська', 'Київська']\n",
      "Year: 2020, Affected areas: ['Кіровоградська', 'Луганська', 'Львівська', 'Миколаївська', 'Одеська', 'Полтавська', 'Рівенська', 'Сумська', 'Тернопільська', 'Харківська', 'Вінницька', 'Херсонська', 'Хмельницька', 'Черкаська', 'Чернівецька', 'Чернігівська', 'Республіка Крим', 'Волинська', 'Дніпропетровська', 'Донецька', 'Житомирська', 'Закарпатська', 'Запорізька', 'Івано-Франківська', 'Київська']\n",
      "Year: 2023, Affected areas: ['Кіровоградська', 'Луганська', 'Львівська', 'Миколаївська', 'Одеська', 'Полтавська', 'Рівенська', 'Сумська', 'Тернопільська', 'Харківська', 'Вінницька', 'Херсонська', 'Хмельницька', 'Черкаська', 'Чернівецька', 'Чернігівська', 'Республіка Крим', 'Волинська', 'Дніпропетровська', 'Донецька', 'Житомирська', 'Закарпатська', 'Запорізька', 'Івано-Франківська', 'Київська']\n"
     ]
    }
   ],
   "source": [
    "def moderate_drought():\n",
    "    mod_dro_years = []\n",
    "    mod_dro_regions = {}\n",
    "    for year in df['Year'].unique():\n",
    "        drought_regions = df[(df['Year'] == year) & (df['VHI'] > 15) & (df['VHI'] < 35)]['area'].unique()\n",
    "        drought_regions_count = len(drought_regions)\n",
    "        if (drought_regions_count / 25) >= 0.95:\n",
    "            mod_dro_years.append(year)\n",
    "            mod_dro_regions[year] = drought_regions.tolist()\n",
    "    return mod_dro_years, mod_dro_regions\n",
    "\n",
    "ext_dro_years, mod_dro_regions = moderate_drought()\n",
    "print(\"Years with extreme droughts affecting more than 95% of regions:\")\n",
    "for year in ext_dro_years:\n",
    "    print(f\"Year: {year}, Affected areas: {mod_dro_regions[year]}\")"
   ]
  }
 ],
 "metadata": {
  "kernelspec": {
   "display_name": "lab2",
   "language": "python",
   "name": "python3"
  },
  "language_info": {
   "codemirror_mode": {
    "name": "ipython",
    "version": 3
   },
   "file_extension": ".py",
   "mimetype": "text/x-python",
   "name": "python",
   "nbconvert_exporter": "python",
   "pygments_lexer": "ipython3",
   "version": "3.12.2"
  }
 },
 "nbformat": 4,
 "nbformat_minor": 2
}
